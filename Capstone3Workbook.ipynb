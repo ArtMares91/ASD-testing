{
  "nbformat": 4,
  "nbformat_minor": 0,
  "metadata": {
    "colab": {
      "provenance": []
    },
    "kernelspec": {
      "name": "python3",
      "display_name": "Python 3"
    },
    "language_info": {
      "name": "python"
    }
  },
  "cells": [
    {
      "cell_type": "markdown",
      "source": [
        "# Capstone III"
      ],
      "metadata": {
        "id": "DEw_SrhcPzi0"
      }
    },
    {
      "cell_type": "markdown",
      "source": [
        "# **Background**\n",
        "\n",
        "Autism spectrum disorder (ASD) is, as defined by the National Institute of Mental Health, a neurological and developmental disorder that affects how people interact with others, communicate, learn, and behave. There are a wide range of conditions that a person with ASD could possibly have, and knowing the signs from an early age can be beneficial for those who have the disorder. While acknowledging the factors can help, not many people outside of ASD specialists and activists know what signs to look for. But having information available that asks those factors out to the wider public can help with early diagnosis and help those who have the disorder find resources to help. \n",
        "\n",
        "The datasets are provided by Dr. Fadi Fayez Thabtah, a lecturer from the Manukau Institute of Technology in Auckland, New Zealand. He helped create an app that asked specific questions to quantify if the person who is taking the test could have ASD. Using the data he provided from the app through the UC Irvine Machine Learning Repository, we can use the results to determine if the test taker, or the person who is having the test conducted on them, has ASD. \n",
        "\n",
        "The datasets contain 1100 test takers, split into three age group. Each dataset is split between the two sections: the questions asked, with 1 corresponding to a ‘yes’ and 0 corresponding to a ‘no’, and demographics from the test taker, such as age, gender, country of origin, ethnicity, and whether the test taker is the one asking for a self diagnosis or if it is for another person. \n",
        "\n",
        "From this dataset, we will confirm if the tests are able to determine if a person has ASD based on their score. From that score, we will also look at whether two factors, infant jaundice and gender, are also factors in determining ASD.\n",
        "\n",
        "**Links for the datasets:**\n",
        "\n",
        "[Autistic Spectrum Disorder Screening Data for Children Data Set](https://archive.ics.uci.edu/ml/datasets/Autistic+Spectrum+Disorder+Screening+Data+for+Children++) [[CSV file](https://drive.google.com/file/d/1vuIdfuL6lB1cG77aKMhG40TpL5wkmDOE/view?usp=share_link)]\n",
        "\n",
        "[Autistic Spectrum Disorder Screening Data for Adolescent Data Set](https://archive.ics.uci.edu/ml/datasets/Autistic+Spectrum+Disorder+Screening+Data+for+Adolescent+++) [[CSV file](https://drive.google.com/file/d/1umxd66yNr33t_qjS0ErLmS2g1c3L_kmq/view?usp=share_link)]\n",
        "\n",
        "[Autism Screening Adult Data Set](https://archive.ics.uci.edu/ml/datasets/Autism+Screening+Adult) [[CVS file](https://drive.google.com/file/d/1FWttCOP_cpG9OxlPsRfgCSBIKanqS5eO/view?usp=share_link)]\n",
        "\n",
        "\n",
        "\n"
      ],
      "metadata": {
        "id": "YUl03_Wz4zLu"
      }
    },
    {
      "cell_type": "markdown",
      "source": [
        "# **Part I - Importing Data**"
      ],
      "metadata": {
        "id": "gR0rGBAgFsWc"
      }
    },
    {
      "cell_type": "code",
      "source": [
        "from google.colab import drive\n",
        "drive.mount ('/content/gdrive')"
      ],
      "metadata": {
        "colab": {
          "base_uri": "https://localhost:8080/"
        },
        "id": "lIRqm73DeeYD",
        "outputId": "046e97fe-5cd4-4426-e40e-f39e78af80f9"
      },
      "execution_count": null,
      "outputs": [
        {
          "output_type": "stream",
          "name": "stdout",
          "text": [
            "Drive already mounted at /content/gdrive; to attempt to forcibly remount, call drive.mount(\"/content/gdrive\", force_remount=True).\n"
          ]
        }
      ]
    },
    {
      "cell_type": "code",
      "execution_count": null,
      "metadata": {
        "id": "vXDmIU-wLQ6z"
      },
      "outputs": [],
      "source": [
        "import pandas as pd\n",
        "from sqlalchemy import create_engine\n",
        "from scipy import stats\n",
        "import math\n",
        "import seaborn as sns"
      ]
    },
    {
      "cell_type": "code",
      "source": [
        "## Import the converted csv files from Google Drive\n",
        "\n",
        "child_df = pd.read_csv('/content/gdrive/MyDrive/Colab Datasets/Autism-Child-Data.csv')\n",
        "teen_df = pd.read_csv('/content/gdrive/MyDrive/Colab Datasets/Autism-Adolescent-Data.csv')\n",
        "adult_df = pd.read_csv('/content/gdrive/MyDrive/Colab Datasets/Autism-Adult-Data.csv')"
      ],
      "metadata": {
        "id": "_RP1ZVLRn7w3"
      },
      "execution_count": null,
      "outputs": []
    },
    {
      "cell_type": "markdown",
      "source": [
        "# **Part II - Cleaning and Combining the Data**"
      ],
      "metadata": {
        "id": "avMNL_OdF8Ij"
      }
    },
    {
      "cell_type": "code",
      "source": [
        "## Collate the datasets into one table and confirm that all rows are included\n",
        "\n",
        "new_df = pd.concat([child_df, teen_df, adult_df])\n",
        "new_df.shape"
      ],
      "metadata": {
        "colab": {
          "base_uri": "https://localhost:8080/"
        },
        "id": "H-rMkPzdqUZo",
        "outputId": "db9040c8-cc3d-4a56-ac0d-d64265a164cc"
      },
      "execution_count": null,
      "outputs": [
        {
          "output_type": "execute_result",
          "data": {
            "text/plain": [
              "(1100, 23)"
            ]
          },
          "metadata": {},
          "execution_count": 31
        }
      ]
    },
    {
      "cell_type": "code",
      "source": [
        "## Check to see if there are any nulls in the dataset\n",
        "\n",
        "new_df.isnull()"
      ],
      "metadata": {
        "colab": {
          "base_uri": "https://localhost:8080/",
          "height": 487
        },
        "id": "rOLJfZRtq00O",
        "outputId": "4527f75a-86f4-43b1-ac95-e3ad8c45a11e"
      },
      "execution_count": null,
      "outputs": [
        {
          "output_type": "execute_result",
          "data": {
            "text/plain": [
              "        id  A1_Score  A2_Score  A3_Score  A4_Score  A5_Score  A6_Score  \\\n",
              "0    False     False     False     False     False     False     False   \n",
              "1    False     False     False     False     False     False     False   \n",
              "2    False     False     False     False     False     False     False   \n",
              "3    False     False     False     False     False     False     False   \n",
              "4    False     False     False     False     False     False     False   \n",
              "..     ...       ...       ...       ...       ...       ...       ...   \n",
              "699  False     False     False     False     False     False     False   \n",
              "700  False     False     False     False     False     False     False   \n",
              "701  False     False     False     False     False     False     False   \n",
              "702  False     False     False     False     False     False     False   \n",
              "703  False     False     False     False     False     False     False   \n",
              "\n",
              "     A7_Score  A8_Score  A9_Score  ...  ethnicity  jaundice  austim  \\\n",
              "0       False     False     False  ...      False     False   False   \n",
              "1       False     False     False  ...      False     False   False   \n",
              "2       False     False     False  ...       True     False   False   \n",
              "3       False     False     False  ...       True     False   False   \n",
              "4       False     False     False  ...      False     False   False   \n",
              "..        ...       ...       ...  ...        ...       ...     ...   \n",
              "699     False     False     False  ...      False     False   False   \n",
              "700     False     False     False  ...      False     False   False   \n",
              "701     False     False     False  ...       True     False   False   \n",
              "702     False     False     False  ...      False     False   False   \n",
              "703     False     False     False  ...      False     False   False   \n",
              "\n",
              "     country_of_res  used_app_before  result  age_desc  relation  Class/ASD  \\\n",
              "0             False            False   False     False     False      False   \n",
              "1             False            False   False     False     False      False   \n",
              "2             False            False   False     False      True      False   \n",
              "3             False            False   False     False      True      False   \n",
              "4             False            False   False     False     False      False   \n",
              "..              ...              ...     ...       ...       ...        ...   \n",
              "699           False            False   False     False     False      False   \n",
              "700           False            False   False     False     False      False   \n",
              "701           False            False   False     False      True      False   \n",
              "702           False            False   False     False     False      False   \n",
              "703           False            False   False     False     False      False   \n",
              "\n",
              "     contry_of_res  \n",
              "0             True  \n",
              "1             True  \n",
              "2             True  \n",
              "3             True  \n",
              "4             True  \n",
              "..             ...  \n",
              "699           True  \n",
              "700           True  \n",
              "701           True  \n",
              "702           True  \n",
              "703           True  \n",
              "\n",
              "[1100 rows x 23 columns]"
            ],
            "text/html": [
              "\n",
              "  <div id=\"df-f3ebde3a-029c-4054-9382-ce96df2fe3b7\">\n",
              "    <div class=\"colab-df-container\">\n",
              "      <div>\n",
              "<style scoped>\n",
              "    .dataframe tbody tr th:only-of-type {\n",
              "        vertical-align: middle;\n",
              "    }\n",
              "\n",
              "    .dataframe tbody tr th {\n",
              "        vertical-align: top;\n",
              "    }\n",
              "\n",
              "    .dataframe thead th {\n",
              "        text-align: right;\n",
              "    }\n",
              "</style>\n",
              "<table border=\"1\" class=\"dataframe\">\n",
              "  <thead>\n",
              "    <tr style=\"text-align: right;\">\n",
              "      <th></th>\n",
              "      <th>id</th>\n",
              "      <th>A1_Score</th>\n",
              "      <th>A2_Score</th>\n",
              "      <th>A3_Score</th>\n",
              "      <th>A4_Score</th>\n",
              "      <th>A5_Score</th>\n",
              "      <th>A6_Score</th>\n",
              "      <th>A7_Score</th>\n",
              "      <th>A8_Score</th>\n",
              "      <th>A9_Score</th>\n",
              "      <th>...</th>\n",
              "      <th>ethnicity</th>\n",
              "      <th>jaundice</th>\n",
              "      <th>austim</th>\n",
              "      <th>country_of_res</th>\n",
              "      <th>used_app_before</th>\n",
              "      <th>result</th>\n",
              "      <th>age_desc</th>\n",
              "      <th>relation</th>\n",
              "      <th>Class/ASD</th>\n",
              "      <th>contry_of_res</th>\n",
              "    </tr>\n",
              "  </thead>\n",
              "  <tbody>\n",
              "    <tr>\n",
              "      <th>0</th>\n",
              "      <td>False</td>\n",
              "      <td>False</td>\n",
              "      <td>False</td>\n",
              "      <td>False</td>\n",
              "      <td>False</td>\n",
              "      <td>False</td>\n",
              "      <td>False</td>\n",
              "      <td>False</td>\n",
              "      <td>False</td>\n",
              "      <td>False</td>\n",
              "      <td>...</td>\n",
              "      <td>False</td>\n",
              "      <td>False</td>\n",
              "      <td>False</td>\n",
              "      <td>False</td>\n",
              "      <td>False</td>\n",
              "      <td>False</td>\n",
              "      <td>False</td>\n",
              "      <td>False</td>\n",
              "      <td>False</td>\n",
              "      <td>True</td>\n",
              "    </tr>\n",
              "    <tr>\n",
              "      <th>1</th>\n",
              "      <td>False</td>\n",
              "      <td>False</td>\n",
              "      <td>False</td>\n",
              "      <td>False</td>\n",
              "      <td>False</td>\n",
              "      <td>False</td>\n",
              "      <td>False</td>\n",
              "      <td>False</td>\n",
              "      <td>False</td>\n",
              "      <td>False</td>\n",
              "      <td>...</td>\n",
              "      <td>False</td>\n",
              "      <td>False</td>\n",
              "      <td>False</td>\n",
              "      <td>False</td>\n",
              "      <td>False</td>\n",
              "      <td>False</td>\n",
              "      <td>False</td>\n",
              "      <td>False</td>\n",
              "      <td>False</td>\n",
              "      <td>True</td>\n",
              "    </tr>\n",
              "    <tr>\n",
              "      <th>2</th>\n",
              "      <td>False</td>\n",
              "      <td>False</td>\n",
              "      <td>False</td>\n",
              "      <td>False</td>\n",
              "      <td>False</td>\n",
              "      <td>False</td>\n",
              "      <td>False</td>\n",
              "      <td>False</td>\n",
              "      <td>False</td>\n",
              "      <td>False</td>\n",
              "      <td>...</td>\n",
              "      <td>True</td>\n",
              "      <td>False</td>\n",
              "      <td>False</td>\n",
              "      <td>False</td>\n",
              "      <td>False</td>\n",
              "      <td>False</td>\n",
              "      <td>False</td>\n",
              "      <td>True</td>\n",
              "      <td>False</td>\n",
              "      <td>True</td>\n",
              "    </tr>\n",
              "    <tr>\n",
              "      <th>3</th>\n",
              "      <td>False</td>\n",
              "      <td>False</td>\n",
              "      <td>False</td>\n",
              "      <td>False</td>\n",
              "      <td>False</td>\n",
              "      <td>False</td>\n",
              "      <td>False</td>\n",
              "      <td>False</td>\n",
              "      <td>False</td>\n",
              "      <td>False</td>\n",
              "      <td>...</td>\n",
              "      <td>True</td>\n",
              "      <td>False</td>\n",
              "      <td>False</td>\n",
              "      <td>False</td>\n",
              "      <td>False</td>\n",
              "      <td>False</td>\n",
              "      <td>False</td>\n",
              "      <td>True</td>\n",
              "      <td>False</td>\n",
              "      <td>True</td>\n",
              "    </tr>\n",
              "    <tr>\n",
              "      <th>4</th>\n",
              "      <td>False</td>\n",
              "      <td>False</td>\n",
              "      <td>False</td>\n",
              "      <td>False</td>\n",
              "      <td>False</td>\n",
              "      <td>False</td>\n",
              "      <td>False</td>\n",
              "      <td>False</td>\n",
              "      <td>False</td>\n",
              "      <td>False</td>\n",
              "      <td>...</td>\n",
              "      <td>False</td>\n",
              "      <td>False</td>\n",
              "      <td>False</td>\n",
              "      <td>False</td>\n",
              "      <td>False</td>\n",
              "      <td>False</td>\n",
              "      <td>False</td>\n",
              "      <td>False</td>\n",
              "      <td>False</td>\n",
              "      <td>True</td>\n",
              "    </tr>\n",
              "    <tr>\n",
              "      <th>...</th>\n",
              "      <td>...</td>\n",
              "      <td>...</td>\n",
              "      <td>...</td>\n",
              "      <td>...</td>\n",
              "      <td>...</td>\n",
              "      <td>...</td>\n",
              "      <td>...</td>\n",
              "      <td>...</td>\n",
              "      <td>...</td>\n",
              "      <td>...</td>\n",
              "      <td>...</td>\n",
              "      <td>...</td>\n",
              "      <td>...</td>\n",
              "      <td>...</td>\n",
              "      <td>...</td>\n",
              "      <td>...</td>\n",
              "      <td>...</td>\n",
              "      <td>...</td>\n",
              "      <td>...</td>\n",
              "      <td>...</td>\n",
              "      <td>...</td>\n",
              "    </tr>\n",
              "    <tr>\n",
              "      <th>699</th>\n",
              "      <td>False</td>\n",
              "      <td>False</td>\n",
              "      <td>False</td>\n",
              "      <td>False</td>\n",
              "      <td>False</td>\n",
              "      <td>False</td>\n",
              "      <td>False</td>\n",
              "      <td>False</td>\n",
              "      <td>False</td>\n",
              "      <td>False</td>\n",
              "      <td>...</td>\n",
              "      <td>False</td>\n",
              "      <td>False</td>\n",
              "      <td>False</td>\n",
              "      <td>False</td>\n",
              "      <td>False</td>\n",
              "      <td>False</td>\n",
              "      <td>False</td>\n",
              "      <td>False</td>\n",
              "      <td>False</td>\n",
              "      <td>True</td>\n",
              "    </tr>\n",
              "    <tr>\n",
              "      <th>700</th>\n",
              "      <td>False</td>\n",
              "      <td>False</td>\n",
              "      <td>False</td>\n",
              "      <td>False</td>\n",
              "      <td>False</td>\n",
              "      <td>False</td>\n",
              "      <td>False</td>\n",
              "      <td>False</td>\n",
              "      <td>False</td>\n",
              "      <td>False</td>\n",
              "      <td>...</td>\n",
              "      <td>False</td>\n",
              "      <td>False</td>\n",
              "      <td>False</td>\n",
              "      <td>False</td>\n",
              "      <td>False</td>\n",
              "      <td>False</td>\n",
              "      <td>False</td>\n",
              "      <td>False</td>\n",
              "      <td>False</td>\n",
              "      <td>True</td>\n",
              "    </tr>\n",
              "    <tr>\n",
              "      <th>701</th>\n",
              "      <td>False</td>\n",
              "      <td>False</td>\n",
              "      <td>False</td>\n",
              "      <td>False</td>\n",
              "      <td>False</td>\n",
              "      <td>False</td>\n",
              "      <td>False</td>\n",
              "      <td>False</td>\n",
              "      <td>False</td>\n",
              "      <td>False</td>\n",
              "      <td>...</td>\n",
              "      <td>True</td>\n",
              "      <td>False</td>\n",
              "      <td>False</td>\n",
              "      <td>False</td>\n",
              "      <td>False</td>\n",
              "      <td>False</td>\n",
              "      <td>False</td>\n",
              "      <td>True</td>\n",
              "      <td>False</td>\n",
              "      <td>True</td>\n",
              "    </tr>\n",
              "    <tr>\n",
              "      <th>702</th>\n",
              "      <td>False</td>\n",
              "      <td>False</td>\n",
              "      <td>False</td>\n",
              "      <td>False</td>\n",
              "      <td>False</td>\n",
              "      <td>False</td>\n",
              "      <td>False</td>\n",
              "      <td>False</td>\n",
              "      <td>False</td>\n",
              "      <td>False</td>\n",
              "      <td>...</td>\n",
              "      <td>False</td>\n",
              "      <td>False</td>\n",
              "      <td>False</td>\n",
              "      <td>False</td>\n",
              "      <td>False</td>\n",
              "      <td>False</td>\n",
              "      <td>False</td>\n",
              "      <td>False</td>\n",
              "      <td>False</td>\n",
              "      <td>True</td>\n",
              "    </tr>\n",
              "    <tr>\n",
              "      <th>703</th>\n",
              "      <td>False</td>\n",
              "      <td>False</td>\n",
              "      <td>False</td>\n",
              "      <td>False</td>\n",
              "      <td>False</td>\n",
              "      <td>False</td>\n",
              "      <td>False</td>\n",
              "      <td>False</td>\n",
              "      <td>False</td>\n",
              "      <td>False</td>\n",
              "      <td>...</td>\n",
              "      <td>False</td>\n",
              "      <td>False</td>\n",
              "      <td>False</td>\n",
              "      <td>False</td>\n",
              "      <td>False</td>\n",
              "      <td>False</td>\n",
              "      <td>False</td>\n",
              "      <td>False</td>\n",
              "      <td>False</td>\n",
              "      <td>True</td>\n",
              "    </tr>\n",
              "  </tbody>\n",
              "</table>\n",
              "<p>1100 rows × 23 columns</p>\n",
              "</div>\n",
              "      <button class=\"colab-df-convert\" onclick=\"convertToInteractive('df-f3ebde3a-029c-4054-9382-ce96df2fe3b7')\"\n",
              "              title=\"Convert this dataframe to an interactive table.\"\n",
              "              style=\"display:none;\">\n",
              "        \n",
              "  <svg xmlns=\"http://www.w3.org/2000/svg\" height=\"24px\"viewBox=\"0 0 24 24\"\n",
              "       width=\"24px\">\n",
              "    <path d=\"M0 0h24v24H0V0z\" fill=\"none\"/>\n",
              "    <path d=\"M18.56 5.44l.94 2.06.94-2.06 2.06-.94-2.06-.94-.94-2.06-.94 2.06-2.06.94zm-11 1L8.5 8.5l.94-2.06 2.06-.94-2.06-.94L8.5 2.5l-.94 2.06-2.06.94zm10 10l.94 2.06.94-2.06 2.06-.94-2.06-.94-.94-2.06-.94 2.06-2.06.94z\"/><path d=\"M17.41 7.96l-1.37-1.37c-.4-.4-.92-.59-1.43-.59-.52 0-1.04.2-1.43.59L10.3 9.45l-7.72 7.72c-.78.78-.78 2.05 0 2.83L4 21.41c.39.39.9.59 1.41.59.51 0 1.02-.2 1.41-.59l7.78-7.78 2.81-2.81c.8-.78.8-2.07 0-2.86zM5.41 20L4 18.59l7.72-7.72 1.47 1.35L5.41 20z\"/>\n",
              "  </svg>\n",
              "      </button>\n",
              "      \n",
              "  <style>\n",
              "    .colab-df-container {\n",
              "      display:flex;\n",
              "      flex-wrap:wrap;\n",
              "      gap: 12px;\n",
              "    }\n",
              "\n",
              "    .colab-df-convert {\n",
              "      background-color: #E8F0FE;\n",
              "      border: none;\n",
              "      border-radius: 50%;\n",
              "      cursor: pointer;\n",
              "      display: none;\n",
              "      fill: #1967D2;\n",
              "      height: 32px;\n",
              "      padding: 0 0 0 0;\n",
              "      width: 32px;\n",
              "    }\n",
              "\n",
              "    .colab-df-convert:hover {\n",
              "      background-color: #E2EBFA;\n",
              "      box-shadow: 0px 1px 2px rgba(60, 64, 67, 0.3), 0px 1px 3px 1px rgba(60, 64, 67, 0.15);\n",
              "      fill: #174EA6;\n",
              "    }\n",
              "\n",
              "    [theme=dark] .colab-df-convert {\n",
              "      background-color: #3B4455;\n",
              "      fill: #D2E3FC;\n",
              "    }\n",
              "\n",
              "    [theme=dark] .colab-df-convert:hover {\n",
              "      background-color: #434B5C;\n",
              "      box-shadow: 0px 1px 3px 1px rgba(0, 0, 0, 0.15);\n",
              "      filter: drop-shadow(0px 1px 2px rgba(0, 0, 0, 0.3));\n",
              "      fill: #FFFFFF;\n",
              "    }\n",
              "  </style>\n",
              "\n",
              "      <script>\n",
              "        const buttonEl =\n",
              "          document.querySelector('#df-f3ebde3a-029c-4054-9382-ce96df2fe3b7 button.colab-df-convert');\n",
              "        buttonEl.style.display =\n",
              "          google.colab.kernel.accessAllowed ? 'block' : 'none';\n",
              "\n",
              "        async function convertToInteractive(key) {\n",
              "          const element = document.querySelector('#df-f3ebde3a-029c-4054-9382-ce96df2fe3b7');\n",
              "          const dataTable =\n",
              "            await google.colab.kernel.invokeFunction('convertToInteractive',\n",
              "                                                     [key], {});\n",
              "          if (!dataTable) return;\n",
              "\n",
              "          const docLinkHtml = 'Like what you see? Visit the ' +\n",
              "            '<a target=\"_blank\" href=https://colab.research.google.com/notebooks/data_table.ipynb>data table notebook</a>'\n",
              "            + ' to learn more about interactive tables.';\n",
              "          element.innerHTML = '';\n",
              "          dataTable['output_type'] = 'display_data';\n",
              "          await google.colab.output.renderOutput(dataTable, element);\n",
              "          const docLink = document.createElement('div');\n",
              "          docLink.innerHTML = docLinkHtml;\n",
              "          element.appendChild(docLink);\n",
              "        }\n",
              "      </script>\n",
              "    </div>\n",
              "  </div>\n",
              "  "
            ]
          },
          "metadata": {},
          "execution_count": 32
        }
      ]
    },
    {
      "cell_type": "code",
      "source": [
        "## Remove all nulls and confirm\n",
        "\n",
        "filtered_df = new_df.fillna('Unknown')\n",
        "all_df = filtered_df.drop(['contry_of_res'], axis=1)\n",
        "all_df.info()\n",
        "print(all_df.size)"
      ],
      "metadata": {
        "colab": {
          "base_uri": "https://localhost:8080/"
        },
        "id": "eSWbvQzbeWbr",
        "outputId": "af81a187-1a7c-4324-b74a-9c51bd573c6c"
      },
      "execution_count": null,
      "outputs": [
        {
          "output_type": "stream",
          "name": "stdout",
          "text": [
            "<class 'pandas.core.frame.DataFrame'>\n",
            "Int64Index: 1100 entries, 0 to 703\n",
            "Data columns (total 22 columns):\n",
            " #   Column           Non-Null Count  Dtype \n",
            "---  ------           --------------  ----- \n",
            " 0   id               1100 non-null   int64 \n",
            " 1   A1_Score         1100 non-null   int64 \n",
            " 2   A2_Score         1100 non-null   int64 \n",
            " 3   A3_Score         1100 non-null   int64 \n",
            " 4   A4_Score         1100 non-null   int64 \n",
            " 5   A5_Score         1100 non-null   int64 \n",
            " 6   A6_Score         1100 non-null   int64 \n",
            " 7   A7_Score         1100 non-null   int64 \n",
            " 8   A8_Score         1100 non-null   int64 \n",
            " 9   A9_Score         1100 non-null   int64 \n",
            " 10  A10_Score        1100 non-null   int64 \n",
            " 11  age              1100 non-null   object\n",
            " 12  gender           1100 non-null   object\n",
            " 13  ethnicity        1100 non-null   object\n",
            " 14  jaundice         1100 non-null   object\n",
            " 15  austim           1100 non-null   object\n",
            " 16  country_of_res   1100 non-null   object\n",
            " 17  used_app_before  1100 non-null   object\n",
            " 18  result           1100 non-null   int64 \n",
            " 19  age_desc         1100 non-null   object\n",
            " 20  relation         1100 non-null   object\n",
            " 21  Class/ASD        1100 non-null   object\n",
            "dtypes: int64(12), object(10)\n",
            "memory usage: 197.7+ KB\n",
            "24200\n"
          ]
        }
      ]
    },
    {
      "cell_type": "code",
      "source": [
        "## Run histogram to look at skew and kurtosis\n",
        "\n",
        "ax = sns.histplot(all_df['result'], bins=11, kde=True)"
      ],
      "metadata": {
        "colab": {
          "base_uri": "https://localhost:8080/",
          "height": 279
        },
        "id": "mL8yw7gXLKz3",
        "outputId": "5ab02562-90f2-4515-8697-91647fa78f89"
      },
      "execution_count": null,
      "outputs": [
        {
          "output_type": "display_data",
          "data": {
            "text/plain": [
              "<Figure size 432x288 with 1 Axes>"
            ],
            "image/png": "[encoded data removed]"
          },
          "metadata": {
            "needs_background": "light"
          }
        }
      ]
    },
    {
      "cell_type": "markdown",
      "source": [
        "# **Hypothesis 1:**\n",
        "\n",
        "\n",
        "*   **Null Hypothesis:** Quiz score result does not indicate autism\n",
        "*   **Alternate Hypothesis:** Quiz score result indicate autism\n",
        "\n"
      ],
      "metadata": {
        "id": "sbQqYJOqkFho"
      }
    },
    {
      "cell_type": "code",
      "source": [
        "## Pull all information from table and pull out all \"YES\" from Class/ASD column\n",
        "\n",
        "autism_y = all_df['Class/ASD'] == 'YES'\n",
        "asd_y = all_df.iloc[autism_y.values]\n",
        "asd_y"
      ],
      "metadata": {
        "colab": {
          "base_uri": "https://localhost:8080/",
          "height": 661
        },
        "id": "joeEtgyOsIs-",
        "outputId": "daa765b0-b345-4ba5-f027-cb52f7173ddf"
      },
      "execution_count": null,
      "outputs": [
        {
          "output_type": "execute_result",
          "data": {
            "text/plain": [
              "      id  A1_Score  A2_Score  A3_Score  A4_Score  A5_Score  A6_Score  \\\n",
              "4      5         1         1         1         1         1         1   \n",
              "6      7         1         0         1         1         1         1   \n",
              "7      8         1         1         1         1         1         1   \n",
              "8      9         1         1         1         1         1         1   \n",
              "10    11         1         0         0         0         1         1   \n",
              "..   ...       ...       ...       ...       ...       ...       ...   \n",
              "696  697         1         1         1         1         1         1   \n",
              "698  699         1         1         1         1         1         1   \n",
              "699  700         0         1         0         1         1         0   \n",
              "701  702         1         0         1         1         1         0   \n",
              "703  704         1         0         1         1         1         0   \n",
              "\n",
              "     A7_Score  A8_Score  A9_Score  ...  gender        ethnicity jaundice  \\\n",
              "4           1         1         1  ...       m           Others      yes   \n",
              "6           0         1         0  ...       m   White-European       no   \n",
              "7           1         1         0  ...       f  Middle Eastern        no   \n",
              "8           1         0         0  ...       f  Middle Eastern        no   \n",
              "10          1         1         1  ...       m   White-European      yes   \n",
              "..        ...       ...       ...  ...     ...              ...      ...   \n",
              "696         0         1         1  ...       m          Turkish       no   \n",
              "698         1         1         1  ...       f         Pasifika       no   \n",
              "699         1         1         1  ...       f   White-European       no   \n",
              "701         1         1         0  ...       f          Unknown       no   \n",
              "703         1         1         1  ...       f   White-European       no   \n",
              "\n",
              "    austim  country_of_res used_app_before result     age_desc  relation  \\\n",
              "4       no   United States              no     10   4-11 years    Parent   \n",
              "6       no  United Kingdom              no      7   4-11 years    Parent   \n",
              "7       no         Bahrain              no      8   4-11 years    Parent   \n",
              "8       no         Bahrain              no      7   4-11 years    Parent   \n",
              "10      no  United Kingdom              no      7   4-11 years      Self   \n",
              "..     ...             ...             ...    ...          ...       ...   \n",
              "696    yes       Australia              no      9  18 and more      Self   \n",
              "698     no       Australia              no     10  18 and more      Self   \n",
              "699     no          Russia              no      7  18 and more      Self   \n",
              "701     no          Russia              no      7  18 and more   Unknown   \n",
              "703     no          Cyprus              no      8  18 and more      Self   \n",
              "\n",
              "    Class/ASD  \n",
              "4         YES  \n",
              "6         YES  \n",
              "7         YES  \n",
              "8         YES  \n",
              "10        YES  \n",
              "..        ...  \n",
              "696       YES  \n",
              "698       YES  \n",
              "699       YES  \n",
              "701       YES  \n",
              "703       YES  \n",
              "\n",
              "[393 rows x 22 columns]"
            ],
            "text/html": [
              "\n",
              "  <div id=\"df-eaed6844-9629-4de2-92e4-d1812dca6e89\">\n",
              "    <div class=\"colab-df-container\">\n",
              "      <div>\n",
              "<style scoped>\n",
              "    .dataframe tbody tr th:only-of-type {\n",
              "        vertical-align: middle;\n",
              "    }\n",
              "\n",
              "    .dataframe tbody tr th {\n",
              "        vertical-align: top;\n",
              "    }\n",
              "\n",
              "    .dataframe thead th {\n",
              "        text-align: right;\n",
              "    }\n",
              "</style>\n",
              "<table border=\"1\" class=\"dataframe\">\n",
              "  <thead>\n",
              "    <tr style=\"text-align: right;\">\n",
              "      <th></th>\n",
              "      <th>id</th>\n",
              "      <th>A1_Score</th>\n",
              "      <th>A2_Score</th>\n",
              "      <th>A3_Score</th>\n",
              "      <th>A4_Score</th>\n",
              "      <th>A5_Score</th>\n",
              "      <th>A6_Score</th>\n",
              "      <th>A7_Score</th>\n",
              "      <th>A8_Score</th>\n",
              "      <th>A9_Score</th>\n",
              "      <th>...</th>\n",
              "      <th>gender</th>\n",
              "      <th>ethnicity</th>\n",
              "      <th>jaundice</th>\n",
              "      <th>austim</th>\n",
              "      <th>country_of_res</th>\n",
              "      <th>used_app_before</th>\n",
              "      <th>result</th>\n",
              "      <th>age_desc</th>\n",
              "      <th>relation</th>\n",
              "      <th>Class/ASD</th>\n",
              "    </tr>\n",
              "  </thead>\n",
              "  <tbody>\n",
              "    <tr>\n",
              "      <th>4</th>\n",
              "      <td>5</td>\n",
              "      <td>1</td>\n",
              "      <td>1</td>\n",
              "      <td>1</td>\n",
              "      <td>1</td>\n",
              "      <td>1</td>\n",
              "      <td>1</td>\n",
              "      <td>1</td>\n",
              "      <td>1</td>\n",
              "      <td>1</td>\n",
              "      <td>...</td>\n",
              "      <td>m</td>\n",
              "      <td>Others</td>\n",
              "      <td>yes</td>\n",
              "      <td>no</td>\n",
              "      <td>United States</td>\n",
              "      <td>no</td>\n",
              "      <td>10</td>\n",
              "      <td>4-11 years</td>\n",
              "      <td>Parent</td>\n",
              "      <td>YES</td>\n",
              "    </tr>\n",
              "    <tr>\n",
              "      <th>6</th>\n",
              "      <td>7</td>\n",
              "      <td>1</td>\n",
              "      <td>0</td>\n",
              "      <td>1</td>\n",
              "      <td>1</td>\n",
              "      <td>1</td>\n",
              "      <td>1</td>\n",
              "      <td>0</td>\n",
              "      <td>1</td>\n",
              "      <td>0</td>\n",
              "      <td>...</td>\n",
              "      <td>m</td>\n",
              "      <td>White-European</td>\n",
              "      <td>no</td>\n",
              "      <td>no</td>\n",
              "      <td>United Kingdom</td>\n",
              "      <td>no</td>\n",
              "      <td>7</td>\n",
              "      <td>4-11 years</td>\n",
              "      <td>Parent</td>\n",
              "      <td>YES</td>\n",
              "    </tr>\n",
              "    <tr>\n",
              "      <th>7</th>\n",
              "      <td>8</td>\n",
              "      <td>1</td>\n",
              "      <td>1</td>\n",
              "      <td>1</td>\n",
              "      <td>1</td>\n",
              "      <td>1</td>\n",
              "      <td>1</td>\n",
              "      <td>1</td>\n",
              "      <td>1</td>\n",
              "      <td>0</td>\n",
              "      <td>...</td>\n",
              "      <td>f</td>\n",
              "      <td>Middle Eastern</td>\n",
              "      <td>no</td>\n",
              "      <td>no</td>\n",
              "      <td>Bahrain</td>\n",
              "      <td>no</td>\n",
              "      <td>8</td>\n",
              "      <td>4-11 years</td>\n",
              "      <td>Parent</td>\n",
              "      <td>YES</td>\n",
              "    </tr>\n",
              "    <tr>\n",
              "      <th>8</th>\n",
              "      <td>9</td>\n",
              "      <td>1</td>\n",
              "      <td>1</td>\n",
              "      <td>1</td>\n",
              "      <td>1</td>\n",
              "      <td>1</td>\n",
              "      <td>1</td>\n",
              "      <td>1</td>\n",
              "      <td>0</td>\n",
              "      <td>0</td>\n",
              "      <td>...</td>\n",
              "      <td>f</td>\n",
              "      <td>Middle Eastern</td>\n",
              "      <td>no</td>\n",
              "      <td>no</td>\n",
              "      <td>Bahrain</td>\n",
              "      <td>no</td>\n",
              "      <td>7</td>\n",
              "      <td>4-11 years</td>\n",
              "      <td>Parent</td>\n",
              "      <td>YES</td>\n",
              "    </tr>\n",
              "    <tr>\n",
              "      <th>10</th>\n",
              "      <td>11</td>\n",
              "      <td>1</td>\n",
              "      <td>0</td>\n",
              "      <td>0</td>\n",
              "      <td>0</td>\n",
              "      <td>1</td>\n",
              "      <td>1</td>\n",
              "      <td>1</td>\n",
              "      <td>1</td>\n",
              "      <td>1</td>\n",
              "      <td>...</td>\n",
              "      <td>m</td>\n",
              "      <td>White-European</td>\n",
              "      <td>yes</td>\n",
              "      <td>no</td>\n",
              "      <td>United Kingdom</td>\n",
              "      <td>no</td>\n",
              "      <td>7</td>\n",
              "      <td>4-11 years</td>\n",
              "      <td>Self</td>\n",
              "      <td>YES</td>\n",
              "    </tr>\n",
              "    <tr>\n",
              "      <th>...</th>\n",
              "      <td>...</td>\n",
              "      <td>...</td>\n",
              "      <td>...</td>\n",
              "      <td>...</td>\n",
              "      <td>...</td>\n",
              "      <td>...</td>\n",
              "      <td>...</td>\n",
              "      <td>...</td>\n",
              "      <td>...</td>\n",
              "      <td>...</td>\n",
              "      <td>...</td>\n",
              "      <td>...</td>\n",
              "      <td>...</td>\n",
              "      <td>...</td>\n",
              "      <td>...</td>\n",
              "      <td>...</td>\n",
              "      <td>...</td>\n",
              "      <td>...</td>\n",
              "      <td>...</td>\n",
              "      <td>...</td>\n",
              "      <td>...</td>\n",
              "    </tr>\n",
              "    <tr>\n",
              "      <th>696</th>\n",
              "      <td>697</td>\n",
              "      <td>1</td>\n",
              "      <td>1</td>\n",
              "      <td>1</td>\n",
              "      <td>1</td>\n",
              "      <td>1</td>\n",
              "      <td>1</td>\n",
              "      <td>0</td>\n",
              "      <td>1</td>\n",
              "      <td>1</td>\n",
              "      <td>...</td>\n",
              "      <td>m</td>\n",
              "      <td>Turkish</td>\n",
              "      <td>no</td>\n",
              "      <td>yes</td>\n",
              "      <td>Australia</td>\n",
              "      <td>no</td>\n",
              "      <td>9</td>\n",
              "      <td>18 and more</td>\n",
              "      <td>Self</td>\n",
              "      <td>YES</td>\n",
              "    </tr>\n",
              "    <tr>\n",
              "      <th>698</th>\n",
              "      <td>699</td>\n",
              "      <td>1</td>\n",
              "      <td>1</td>\n",
              "      <td>1</td>\n",
              "      <td>1</td>\n",
              "      <td>1</td>\n",
              "      <td>1</td>\n",
              "      <td>1</td>\n",
              "      <td>1</td>\n",
              "      <td>1</td>\n",
              "      <td>...</td>\n",
              "      <td>f</td>\n",
              "      <td>Pasifika</td>\n",
              "      <td>no</td>\n",
              "      <td>no</td>\n",
              "      <td>Australia</td>\n",
              "      <td>no</td>\n",
              "      <td>10</td>\n",
              "      <td>18 and more</td>\n",
              "      <td>Self</td>\n",
              "      <td>YES</td>\n",
              "    </tr>\n",
              "    <tr>\n",
              "      <th>699</th>\n",
              "      <td>700</td>\n",
              "      <td>0</td>\n",
              "      <td>1</td>\n",
              "      <td>0</td>\n",
              "      <td>1</td>\n",
              "      <td>1</td>\n",
              "      <td>0</td>\n",
              "      <td>1</td>\n",
              "      <td>1</td>\n",
              "      <td>1</td>\n",
              "      <td>...</td>\n",
              "      <td>f</td>\n",
              "      <td>White-European</td>\n",
              "      <td>no</td>\n",
              "      <td>no</td>\n",
              "      <td>Russia</td>\n",
              "      <td>no</td>\n",
              "      <td>7</td>\n",
              "      <td>18 and more</td>\n",
              "      <td>Self</td>\n",
              "      <td>YES</td>\n",
              "    </tr>\n",
              "    <tr>\n",
              "      <th>701</th>\n",
              "      <td>702</td>\n",
              "      <td>1</td>\n",
              "      <td>0</td>\n",
              "      <td>1</td>\n",
              "      <td>1</td>\n",
              "      <td>1</td>\n",
              "      <td>0</td>\n",
              "      <td>1</td>\n",
              "      <td>1</td>\n",
              "      <td>0</td>\n",
              "      <td>...</td>\n",
              "      <td>f</td>\n",
              "      <td>Unknown</td>\n",
              "      <td>no</td>\n",
              "      <td>no</td>\n",
              "      <td>Russia</td>\n",
              "      <td>no</td>\n",
              "      <td>7</td>\n",
              "      <td>18 and more</td>\n",
              "      <td>Unknown</td>\n",
              "      <td>YES</td>\n",
              "    </tr>\n",
              "    <tr>\n",
              "      <th>703</th>\n",
              "      <td>704</td>\n",
              "      <td>1</td>\n",
              "      <td>0</td>\n",
              "      <td>1</td>\n",
              "      <td>1</td>\n",
              "      <td>1</td>\n",
              "      <td>0</td>\n",
              "      <td>1</td>\n",
              "      <td>1</td>\n",
              "      <td>1</td>\n",
              "      <td>...</td>\n",
              "      <td>f</td>\n",
              "      <td>White-European</td>\n",
              "      <td>no</td>\n",
              "      <td>no</td>\n",
              "      <td>Cyprus</td>\n",
              "      <td>no</td>\n",
              "      <td>8</td>\n",
              "      <td>18 and more</td>\n",
              "      <td>Self</td>\n",
              "      <td>YES</td>\n",
              "    </tr>\n",
              "  </tbody>\n",
              "</table>\n",
              "<p>393 rows × 22 columns</p>\n",
              "</div>\n",
              "      <button class=\"colab-df-convert\" onclick=\"convertToInteractive('df-eaed6844-9629-4de2-92e4-d1812dca6e89')\"\n",
              "              title=\"Convert this dataframe to an interactive table.\"\n",
              "              style=\"display:none;\">\n",
              "        \n",
              "  <svg xmlns=\"http://www.w3.org/2000/svg\" height=\"24px\"viewBox=\"0 0 24 24\"\n",
              "       width=\"24px\">\n",
              "    <path d=\"M0 0h24v24H0V0z\" fill=\"none\"/>\n",
              "    <path d=\"M18.56 5.44l.94 2.06.94-2.06 2.06-.94-2.06-.94-.94-2.06-.94 2.06-2.06.94zm-11 1L8.5 8.5l.94-2.06 2.06-.94-2.06-.94L8.5 2.5l-.94 2.06-2.06.94zm10 10l.94 2.06.94-2.06 2.06-.94-2.06-.94-.94-2.06-.94 2.06-2.06.94z\"/><path d=\"M17.41 7.96l-1.37-1.37c-.4-.4-.92-.59-1.43-.59-.52 0-1.04.2-1.43.59L10.3 9.45l-7.72 7.72c-.78.78-.78 2.05 0 2.83L4 21.41c.39.39.9.59 1.41.59.51 0 1.02-.2 1.41-.59l7.78-7.78 2.81-2.81c.8-.78.8-2.07 0-2.86zM5.41 20L4 18.59l7.72-7.72 1.47 1.35L5.41 20z\"/>\n",
              "  </svg>\n",
              "      </button>\n",
              "      \n",
              "  <style>\n",
              "    .colab-df-container {\n",
              "      display:flex;\n",
              "      flex-wrap:wrap;\n",
              "      gap: 12px;\n",
              "    }\n",
              "\n",
              "    .colab-df-convert {\n",
              "      background-color: #E8F0FE;\n",
              "      border: none;\n",
              "      border-radius: 50%;\n",
              "      cursor: pointer;\n",
              "      display: none;\n",
              "      fill: #1967D2;\n",
              "      height: 32px;\n",
              "      padding: 0 0 0 0;\n",
              "      width: 32px;\n",
              "    }\n",
              "\n",
              "    .colab-df-convert:hover {\n",
              "      background-color: #E2EBFA;\n",
              "      box-shadow: 0px 1px 2px rgba(60, 64, 67, 0.3), 0px 1px 3px 1px rgba(60, 64, 67, 0.15);\n",
              "      fill: #174EA6;\n",
              "    }\n",
              "\n",
              "    [theme=dark] .colab-df-convert {\n",
              "      background-color: #3B4455;\n",
              "      fill: #D2E3FC;\n",
              "    }\n",
              "\n",
              "    [theme=dark] .colab-df-convert:hover {\n",
              "      background-color: #434B5C;\n",
              "      box-shadow: 0px 1px 3px 1px rgba(0, 0, 0, 0.15);\n",
              "      filter: drop-shadow(0px 1px 2px rgba(0, 0, 0, 0.3));\n",
              "      fill: #FFFFFF;\n",
              "    }\n",
              "  </style>\n",
              "\n",
              "      <script>\n",
              "        const buttonEl =\n",
              "          document.querySelector('#df-eaed6844-9629-4de2-92e4-d1812dca6e89 button.colab-df-convert');\n",
              "        buttonEl.style.display =\n",
              "          google.colab.kernel.accessAllowed ? 'block' : 'none';\n",
              "\n",
              "        async function convertToInteractive(key) {\n",
              "          const element = document.querySelector('#df-eaed6844-9629-4de2-92e4-d1812dca6e89');\n",
              "          const dataTable =\n",
              "            await google.colab.kernel.invokeFunction('convertToInteractive',\n",
              "                                                     [key], {});\n",
              "          if (!dataTable) return;\n",
              "\n",
              "          const docLinkHtml = 'Like what you see? Visit the ' +\n",
              "            '<a target=\"_blank\" href=https://colab.research.google.com/notebooks/data_table.ipynb>data table notebook</a>'\n",
              "            + ' to learn more about interactive tables.';\n",
              "          element.innerHTML = '';\n",
              "          dataTable['output_type'] = 'display_data';\n",
              "          await google.colab.output.renderOutput(dataTable, element);\n",
              "          const docLink = document.createElement('div');\n",
              "          docLink.innerHTML = docLinkHtml;\n",
              "          element.appendChild(docLink);\n",
              "        }\n",
              "      </script>\n",
              "    </div>\n",
              "  </div>\n",
              "  "
            ]
          },
          "metadata": {},
          "execution_count": 35
        }
      ]
    },
    {
      "cell_type": "code",
      "source": [
        "## Pull all \"NO\" from Class/ASD column\n",
        "\n",
        "autism_n = all_df['Class/ASD'] == 'NO'\n",
        "asd_n = all_df.iloc[autism_n.values]\n",
        "asd_n"
      ],
      "metadata": {
        "colab": {
          "base_uri": "https://localhost:8080/",
          "height": 661
        },
        "id": "oG6_09ENZjjD",
        "outputId": "4c23d763-de70-4ea8-8457-36ad9efbd4ef"
      },
      "execution_count": null,
      "outputs": [
        {
          "output_type": "execute_result",
          "data": {
            "text/plain": [
              "      id  A1_Score  A2_Score  A3_Score  A4_Score  A5_Score  A6_Score  \\\n",
              "0      1         1         1         0         0         1         1   \n",
              "1      2         1         1         0         0         1         1   \n",
              "2      3         1         1         0         0         0         1   \n",
              "3      4         0         1         0         0         1         1   \n",
              "5      6         0         0         1         0         1         1   \n",
              "..   ...       ...       ...       ...       ...       ...       ...   \n",
              "693  694         1         0         0         1         0         0   \n",
              "695  696         1         0         1         1         0         0   \n",
              "697  698         1         1         1         1         1         0   \n",
              "700  701         1         0         0         0         0         0   \n",
              "702  703         1         0         0         1         1         0   \n",
              "\n",
              "     A7_Score  A8_Score  A9_Score  ...  gender        ethnicity jaundice  \\\n",
              "0           0         1         0  ...       m           Others       no   \n",
              "1           0         1         0  ...       m  Middle Eastern        no   \n",
              "2           1         1         0  ...       m          Unknown       no   \n",
              "3           0         0         0  ...       f          Unknown      yes   \n",
              "5           0         1         0  ...       m          Unknown       no   \n",
              "..        ...       ...       ...  ...     ...              ...      ...   \n",
              "693         0         1         0  ...       f   White-European       no   \n",
              "695         1         1         0  ...       m           Latino       no   \n",
              "697         0         0         0  ...       f            Asian       no   \n",
              "700         0         1         0  ...       m         Hispanic       no   \n",
              "702         1         0         1  ...       m      South Asian       no   \n",
              "\n",
              "    austim  country_of_res used_app_before result     age_desc  relation  \\\n",
              "0       no          Jordan              no      5   4-11 years    Parent   \n",
              "1       no          Jordan              no      5   4-11 years    Parent   \n",
              "2       no          Jordan             yes      5   4-11 years   Unknown   \n",
              "3       no          Jordan              no      4   4-11 years   Unknown   \n",
              "5      yes           Egypt              no      5   4-11 years   Unknown   \n",
              "..     ...             ...             ...    ...          ...       ...   \n",
              "693     no  United Kingdom              no      4  18 and more      Self   \n",
              "695     no          Brazil             yes      5  18 and more    Parent   \n",
              "697     no     Philippines              no      6  18 and more      Self   \n",
              "700     no          Mexico              no      3  18 and more    Parent   \n",
              "702     no        Pakistan              no      6  18 and more      Self   \n",
              "\n",
              "    Class/ASD  \n",
              "0          NO  \n",
              "1          NO  \n",
              "2          NO  \n",
              "3          NO  \n",
              "5          NO  \n",
              "..        ...  \n",
              "693        NO  \n",
              "695        NO  \n",
              "697        NO  \n",
              "700        NO  \n",
              "702        NO  \n",
              "\n",
              "[707 rows x 22 columns]"
            ],
            "text/html": [
              "\n",
              "  <div id=\"df-025fcc4c-0eb4-493e-a5e2-88b7a72ccd26\">\n",
              "    <div class=\"colab-df-container\">\n",
              "      <div>\n",
              "<style scoped>\n",
              "    .dataframe tbody tr th:only-of-type {\n",
              "        vertical-align: middle;\n",
              "    }\n",
              "\n",
              "    .dataframe tbody tr th {\n",
              "        vertical-align: top;\n",
              "    }\n",
              "\n",
              "    .dataframe thead th {\n",
              "        text-align: right;\n",
              "    }\n",
              "</style>\n",
              "<table border=\"1\" class=\"dataframe\">\n",
              "  <thead>\n",
              "    <tr style=\"text-align: right;\">\n",
              "      <th></th>\n",
              "      <th>id</th>\n",
              "      <th>A1_Score</th>\n",
              "      <th>A2_Score</th>\n",
              "      <th>A3_Score</th>\n",
              "      <th>A4_Score</th>\n",
              "      <th>A5_Score</th>\n",
              "      <th>A6_Score</th>\n",
              "      <th>A7_Score</th>\n",
              "      <th>A8_Score</th>\n",
              "      <th>A9_Score</th>\n",
              "      <th>...</th>\n",
              "      <th>gender</th>\n",
              "      <th>ethnicity</th>\n",
              "      <th>jaundice</th>\n",
              "      <th>austim</th>\n",
              "      <th>country_of_res</th>\n",
              "      <th>used_app_before</th>\n",
              "      <th>result</th>\n",
              "      <th>age_desc</th>\n",
              "      <th>relation</th>\n",
              "      <th>Class/ASD</th>\n",
              "    </tr>\n",
              "  </thead>\n",
              "  <tbody>\n",
              "    <tr>\n",
              "      <th>0</th>\n",
              "      <td>1</td>\n",
              "      <td>1</td>\n",
              "      <td>1</td>\n",
              "      <td>0</td>\n",
              "      <td>0</td>\n",
              "      <td>1</td>\n",
              "      <td>1</td>\n",
              "      <td>0</td>\n",
              "      <td>1</td>\n",
              "      <td>0</td>\n",
              "      <td>...</td>\n",
              "      <td>m</td>\n",
              "      <td>Others</td>\n",
              "      <td>no</td>\n",
              "      <td>no</td>\n",
              "      <td>Jordan</td>\n",
              "      <td>no</td>\n",
              "      <td>5</td>\n",
              "      <td>4-11 years</td>\n",
              "      <td>Parent</td>\n",
              "      <td>NO</td>\n",
              "    </tr>\n",
              "    <tr>\n",
              "      <th>1</th>\n",
              "      <td>2</td>\n",
              "      <td>1</td>\n",
              "      <td>1</td>\n",
              "      <td>0</td>\n",
              "      <td>0</td>\n",
              "      <td>1</td>\n",
              "      <td>1</td>\n",
              "      <td>0</td>\n",
              "      <td>1</td>\n",
              "      <td>0</td>\n",
              "      <td>...</td>\n",
              "      <td>m</td>\n",
              "      <td>Middle Eastern</td>\n",
              "      <td>no</td>\n",
              "      <td>no</td>\n",
              "      <td>Jordan</td>\n",
              "      <td>no</td>\n",
              "      <td>5</td>\n",
              "      <td>4-11 years</td>\n",
              "      <td>Parent</td>\n",
              "      <td>NO</td>\n",
              "    </tr>\n",
              "    <tr>\n",
              "      <th>2</th>\n",
              "      <td>3</td>\n",
              "      <td>1</td>\n",
              "      <td>1</td>\n",
              "      <td>0</td>\n",
              "      <td>0</td>\n",
              "      <td>0</td>\n",
              "      <td>1</td>\n",
              "      <td>1</td>\n",
              "      <td>1</td>\n",
              "      <td>0</td>\n",
              "      <td>...</td>\n",
              "      <td>m</td>\n",
              "      <td>Unknown</td>\n",
              "      <td>no</td>\n",
              "      <td>no</td>\n",
              "      <td>Jordan</td>\n",
              "      <td>yes</td>\n",
              "      <td>5</td>\n",
              "      <td>4-11 years</td>\n",
              "      <td>Unknown</td>\n",
              "      <td>NO</td>\n",
              "    </tr>\n",
              "    <tr>\n",
              "      <th>3</th>\n",
              "      <td>4</td>\n",
              "      <td>0</td>\n",
              "      <td>1</td>\n",
              "      <td>0</td>\n",
              "      <td>0</td>\n",
              "      <td>1</td>\n",
              "      <td>1</td>\n",
              "      <td>0</td>\n",
              "      <td>0</td>\n",
              "      <td>0</td>\n",
              "      <td>...</td>\n",
              "      <td>f</td>\n",
              "      <td>Unknown</td>\n",
              "      <td>yes</td>\n",
              "      <td>no</td>\n",
              "      <td>Jordan</td>\n",
              "      <td>no</td>\n",
              "      <td>4</td>\n",
              "      <td>4-11 years</td>\n",
              "      <td>Unknown</td>\n",
              "      <td>NO</td>\n",
              "    </tr>\n",
              "    <tr>\n",
              "      <th>5</th>\n",
              "      <td>6</td>\n",
              "      <td>0</td>\n",
              "      <td>0</td>\n",
              "      <td>1</td>\n",
              "      <td>0</td>\n",
              "      <td>1</td>\n",
              "      <td>1</td>\n",
              "      <td>0</td>\n",
              "      <td>1</td>\n",
              "      <td>0</td>\n",
              "      <td>...</td>\n",
              "      <td>m</td>\n",
              "      <td>Unknown</td>\n",
              "      <td>no</td>\n",
              "      <td>yes</td>\n",
              "      <td>Egypt</td>\n",
              "      <td>no</td>\n",
              "      <td>5</td>\n",
              "      <td>4-11 years</td>\n",
              "      <td>Unknown</td>\n",
              "      <td>NO</td>\n",
              "    </tr>\n",
              "    <tr>\n",
              "      <th>...</th>\n",
              "      <td>...</td>\n",
              "      <td>...</td>\n",
              "      <td>...</td>\n",
              "      <td>...</td>\n",
              "      <td>...</td>\n",
              "      <td>...</td>\n",
              "      <td>...</td>\n",
              "      <td>...</td>\n",
              "      <td>...</td>\n",
              "      <td>...</td>\n",
              "      <td>...</td>\n",
              "      <td>...</td>\n",
              "      <td>...</td>\n",
              "      <td>...</td>\n",
              "      <td>...</td>\n",
              "      <td>...</td>\n",
              "      <td>...</td>\n",
              "      <td>...</td>\n",
              "      <td>...</td>\n",
              "      <td>...</td>\n",
              "      <td>...</td>\n",
              "    </tr>\n",
              "    <tr>\n",
              "      <th>693</th>\n",
              "      <td>694</td>\n",
              "      <td>1</td>\n",
              "      <td>0</td>\n",
              "      <td>0</td>\n",
              "      <td>1</td>\n",
              "      <td>0</td>\n",
              "      <td>0</td>\n",
              "      <td>0</td>\n",
              "      <td>1</td>\n",
              "      <td>0</td>\n",
              "      <td>...</td>\n",
              "      <td>f</td>\n",
              "      <td>White-European</td>\n",
              "      <td>no</td>\n",
              "      <td>no</td>\n",
              "      <td>United Kingdom</td>\n",
              "      <td>no</td>\n",
              "      <td>4</td>\n",
              "      <td>18 and more</td>\n",
              "      <td>Self</td>\n",
              "      <td>NO</td>\n",
              "    </tr>\n",
              "    <tr>\n",
              "      <th>695</th>\n",
              "      <td>696</td>\n",
              "      <td>1</td>\n",
              "      <td>0</td>\n",
              "      <td>1</td>\n",
              "      <td>1</td>\n",
              "      <td>0</td>\n",
              "      <td>0</td>\n",
              "      <td>1</td>\n",
              "      <td>1</td>\n",
              "      <td>0</td>\n",
              "      <td>...</td>\n",
              "      <td>m</td>\n",
              "      <td>Latino</td>\n",
              "      <td>no</td>\n",
              "      <td>no</td>\n",
              "      <td>Brazil</td>\n",
              "      <td>yes</td>\n",
              "      <td>5</td>\n",
              "      <td>18 and more</td>\n",
              "      <td>Parent</td>\n",
              "      <td>NO</td>\n",
              "    </tr>\n",
              "    <tr>\n",
              "      <th>697</th>\n",
              "      <td>698</td>\n",
              "      <td>1</td>\n",
              "      <td>1</td>\n",
              "      <td>1</td>\n",
              "      <td>1</td>\n",
              "      <td>1</td>\n",
              "      <td>0</td>\n",
              "      <td>0</td>\n",
              "      <td>0</td>\n",
              "      <td>0</td>\n",
              "      <td>...</td>\n",
              "      <td>f</td>\n",
              "      <td>Asian</td>\n",
              "      <td>no</td>\n",
              "      <td>no</td>\n",
              "      <td>Philippines</td>\n",
              "      <td>no</td>\n",
              "      <td>6</td>\n",
              "      <td>18 and more</td>\n",
              "      <td>Self</td>\n",
              "      <td>NO</td>\n",
              "    </tr>\n",
              "    <tr>\n",
              "      <th>700</th>\n",
              "      <td>701</td>\n",
              "      <td>1</td>\n",
              "      <td>0</td>\n",
              "      <td>0</td>\n",
              "      <td>0</td>\n",
              "      <td>0</td>\n",
              "      <td>0</td>\n",
              "      <td>0</td>\n",
              "      <td>1</td>\n",
              "      <td>0</td>\n",
              "      <td>...</td>\n",
              "      <td>m</td>\n",
              "      <td>Hispanic</td>\n",
              "      <td>no</td>\n",
              "      <td>no</td>\n",
              "      <td>Mexico</td>\n",
              "      <td>no</td>\n",
              "      <td>3</td>\n",
              "      <td>18 and more</td>\n",
              "      <td>Parent</td>\n",
              "      <td>NO</td>\n",
              "    </tr>\n",
              "    <tr>\n",
              "      <th>702</th>\n",
              "      <td>703</td>\n",
              "      <td>1</td>\n",
              "      <td>0</td>\n",
              "      <td>0</td>\n",
              "      <td>1</td>\n",
              "      <td>1</td>\n",
              "      <td>0</td>\n",
              "      <td>1</td>\n",
              "      <td>0</td>\n",
              "      <td>1</td>\n",
              "      <td>...</td>\n",
              "      <td>m</td>\n",
              "      <td>South Asian</td>\n",
              "      <td>no</td>\n",
              "      <td>no</td>\n",
              "      <td>Pakistan</td>\n",
              "      <td>no</td>\n",
              "      <td>6</td>\n",
              "      <td>18 and more</td>\n",
              "      <td>Self</td>\n",
              "      <td>NO</td>\n",
              "    </tr>\n",
              "  </tbody>\n",
              "</table>\n",
              "<p>707 rows × 22 columns</p>\n",
              "</div>\n",
              "      <button class=\"colab-df-convert\" onclick=\"convertToInteractive('df-025fcc4c-0eb4-493e-a5e2-88b7a72ccd26')\"\n",
              "              title=\"Convert this dataframe to an interactive table.\"\n",
              "              style=\"display:none;\">\n",
              "        \n",
              "  <svg xmlns=\"http://www.w3.org/2000/svg\" height=\"24px\"viewBox=\"0 0 24 24\"\n",
              "       width=\"24px\">\n",
              "    <path d=\"M0 0h24v24H0V0z\" fill=\"none\"/>\n",
              "    <path d=\"M18.56 5.44l.94 2.06.94-2.06 2.06-.94-2.06-.94-.94-2.06-.94 2.06-2.06.94zm-11 1L8.5 8.5l.94-2.06 2.06-.94-2.06-.94L8.5 2.5l-.94 2.06-2.06.94zm10 10l.94 2.06.94-2.06 2.06-.94-2.06-.94-.94-2.06-.94 2.06-2.06.94z\"/><path d=\"M17.41 7.96l-1.37-1.37c-.4-.4-.92-.59-1.43-.59-.52 0-1.04.2-1.43.59L10.3 9.45l-7.72 7.72c-.78.78-.78 2.05 0 2.83L4 21.41c.39.39.9.59 1.41.59.51 0 1.02-.2 1.41-.59l7.78-7.78 2.81-2.81c.8-.78.8-2.07 0-2.86zM5.41 20L4 18.59l7.72-7.72 1.47 1.35L5.41 20z\"/>\n",
              "  </svg>\n",
              "      </button>\n",
              "      \n",
              "  <style>\n",
              "    .colab-df-container {\n",
              "      display:flex;\n",
              "      flex-wrap:wrap;\n",
              "      gap: 12px;\n",
              "    }\n",
              "\n",
              "    .colab-df-convert {\n",
              "      background-color: #E8F0FE;\n",
              "      border: none;\n",
              "      border-radius: 50%;\n",
              "      cursor: pointer;\n",
              "      display: none;\n",
              "      fill: #1967D2;\n",
              "      height: 32px;\n",
              "      padding: 0 0 0 0;\n",
              "      width: 32px;\n",
              "    }\n",
              "\n",
              "    .colab-df-convert:hover {\n",
              "      background-color: #E2EBFA;\n",
              "      box-shadow: 0px 1px 2px rgba(60, 64, 67, 0.3), 0px 1px 3px 1px rgba(60, 64, 67, 0.15);\n",
              "      fill: #174EA6;\n",
              "    }\n",
              "\n",
              "    [theme=dark] .colab-df-convert {\n",
              "      background-color: #3B4455;\n",
              "      fill: #D2E3FC;\n",
              "    }\n",
              "\n",
              "    [theme=dark] .colab-df-convert:hover {\n",
              "      background-color: #434B5C;\n",
              "      box-shadow: 0px 1px 3px 1px rgba(0, 0, 0, 0.15);\n",
              "      filter: drop-shadow(0px 1px 2px rgba(0, 0, 0, 0.3));\n",
              "      fill: #FFFFFF;\n",
              "    }\n",
              "  </style>\n",
              "\n",
              "      <script>\n",
              "        const buttonEl =\n",
              "          document.querySelector('#df-025fcc4c-0eb4-493e-a5e2-88b7a72ccd26 button.colab-df-convert');\n",
              "        buttonEl.style.display =\n",
              "          google.colab.kernel.accessAllowed ? 'block' : 'none';\n",
              "\n",
              "        async function convertToInteractive(key) {\n",
              "          const element = document.querySelector('#df-025fcc4c-0eb4-493e-a5e2-88b7a72ccd26');\n",
              "          const dataTable =\n",
              "            await google.colab.kernel.invokeFunction('convertToInteractive',\n",
              "                                                     [key], {});\n",
              "          if (!dataTable) return;\n",
              "\n",
              "          const docLinkHtml = 'Like what you see? Visit the ' +\n",
              "            '<a target=\"_blank\" href=https://colab.research.google.com/notebooks/data_table.ipynb>data table notebook</a>'\n",
              "            + ' to learn more about interactive tables.';\n",
              "          element.innerHTML = '';\n",
              "          dataTable['output_type'] = 'display_data';\n",
              "          await google.colab.output.renderOutput(dataTable, element);\n",
              "          const docLink = document.createElement('div');\n",
              "          docLink.innerHTML = docLinkHtml;\n",
              "          element.appendChild(docLink);\n",
              "        }\n",
              "      </script>\n",
              "    </div>\n",
              "  </div>\n",
              "  "
            ]
          },
          "metadata": {},
          "execution_count": 36
        }
      ]
    },
    {
      "cell_type": "code",
      "source": [
        "## Obtain the range and mean of the \"YES\" score\n",
        " \n",
        "asd_y['result'].describe()"
      ],
      "metadata": {
        "colab": {
          "base_uri": "https://localhost:8080/"
        },
        "id": "Wi3_ZK6Cf0e0",
        "outputId": "acdedc00-814c-4ad6-9bce-9afc1fb44745"
      },
      "execution_count": null,
      "outputs": [
        {
          "output_type": "execute_result",
          "data": {
            "text/plain": [
              "count    393.000000\n",
              "mean       8.234097\n",
              "std        1.033203\n",
              "min        7.000000\n",
              "25%        7.000000\n",
              "50%        8.000000\n",
              "75%        9.000000\n",
              "max       10.000000\n",
              "Name: result, dtype: float64"
            ]
          },
          "metadata": {},
          "execution_count": 37
        }
      ]
    },
    {
      "cell_type": "code",
      "source": [
        "## Obtain the range and mean of the \"NO\" score\n",
        "\n",
        "asd_n['result'].describe()"
      ],
      "metadata": {
        "colab": {
          "base_uri": "https://localhost:8080/"
        },
        "id": "taaOQvXwpJkq",
        "outputId": "8ab624c6-6423-457e-e7eb-5970c07f736c"
      },
      "execution_count": null,
      "outputs": [
        {
          "output_type": "execute_result",
          "data": {
            "text/plain": [
              "count    707.000000\n",
              "mean       3.842999\n",
              "std        1.556114\n",
              "min        0.000000\n",
              "25%        3.000000\n",
              "50%        4.000000\n",
              "75%        5.000000\n",
              "max        6.000000\n",
              "Name: result, dtype: float64"
            ]
          },
          "metadata": {},
          "execution_count": 38
        }
      ]
    },
    {
      "cell_type": "code",
      "source": [
        "## Conducting t-test to gain the p-value\n",
        "\n",
        "stats.ttest_ind(asd_y['result'], asd_n['result'])"
      ],
      "metadata": {
        "colab": {
          "base_uri": "https://localhost:8080/"
        },
        "id": "HR6fjF6fpjD_",
        "outputId": "6f56380b-06b0-409d-a9b3-7a353e85f00e"
      },
      "execution_count": null,
      "outputs": [
        {
          "output_type": "execute_result",
          "data": {
            "text/plain": [
              "Ttest_indResult(statistic=50.129626622690004, pvalue=4.1175147027791398e-286)"
            ]
          },
          "metadata": {},
          "execution_count": 39
        }
      ]
    },
    {
      "cell_type": "markdown",
      "source": [
        "Reject the null hypothesis, as the p value is significant at p < 0.05\n",
        "\n"
      ],
      "metadata": {
        "id": "1RTJstVpJjvb"
      }
    },
    {
      "cell_type": "code",
      "source": [
        "## Run confidence interval function for the \"YES\" and \"NO\" responses\n",
        "\n",
        "def get_95_ci(array_1, array_2):    \n",
        "    sample_1_n = array_1.shape[0]\n",
        "    sample_2_n = array_2.shape[0]\n",
        "    sample_1_mean = array_1.mean()\n",
        "    sample_2_mean = array_2.mean()\n",
        "    sample_1_var = array_1.var()\n",
        "    sample_2_var = array_2.var()\n",
        "    mean_difference = sample_2_mean - sample_1_mean\n",
        "    std_err_difference = math.sqrt((sample_1_var/sample_1_n)+(sample_2_var/sample_2_n))\n",
        "    margin_of_error = 1.96 * std_err_difference\n",
        "    ci_lower = mean_difference - margin_of_error\n",
        "    ci_upper = mean_difference + margin_of_error\n",
        "    return(\"The difference in means at the 95% confidence interval (two-tail) is between \"+str(ci_lower)+\" and \"+str(ci_upper)+\".\")\n",
        "\n",
        "get_95_ci(asd_n['result'], asd_y['result'])"
      ],
      "metadata": {
        "colab": {
          "base_uri": "https://localhost:8080/",
          "height": 36
        },
        "id": "QuncD5lHsP8-",
        "outputId": "5fcfffa7-6e2d-4f5f-9ba8-e65ed99ba03f"
      },
      "execution_count": null,
      "outputs": [
        {
          "output_type": "execute_result",
          "data": {
            "text/plain": [
              "'The difference in means at the 95% confidence interval (two-tail) is between 4.237499518418698 and 4.544696694659535.'"
            ],
            "application/vnd.google.colaboratory.intrinsic+json": {
              "type": "string"
            }
          },
          "metadata": {},
          "execution_count": 40
        }
      ]
    },
    {
      "cell_type": "markdown",
      "source": [
        "The difference in mean at the 95% confidence interval is between 4.238 and 4.545."
      ],
      "metadata": {
        "id": "9ZuiyGEWJ-4x"
      }
    },
    {
      "cell_type": "code",
      "source": [
        "## Run boxplots of the 'Class/ASD' scores\n",
        "\n",
        "sns.boxplot(y='result', x='Class/ASD', data=all_df)"
      ],
      "metadata": {
        "colab": {
          "base_uri": "https://localhost:8080/",
          "height": 297
        },
        "id": "ZJSzLHbJRbgr",
        "outputId": "5b8027e1-4084-4263-adaf-d671e1d63b13"
      },
      "execution_count": null,
      "outputs": [
        {
          "output_type": "execute_result",
          "data": {
            "text/plain": [
              "<matplotlib.axes._subplots.AxesSubplot at 0x7fe6d8ad4bb0>"
            ]
          },
          "metadata": {},
          "execution_count": 41
        },
        {
          "output_type": "display_data",
          "data": {
            "text/plain": [
              "<Figure size 432x288 with 1 Axes>"
            ],
            "image/png": "[encoded data removed]"
          },
          "metadata": {
            "needs_background": "light"
          }
        }
      ]
    },
    {
      "cell_type": "markdown",
      "source": [
        "The critical value is small, at p < 0.05. The \"YES\" score is between 7-10 with a mean of 8.234, while the \"NO\" has a score between 0-6 with a mean of 3.843. There is a 95% confidence interval between 4.238 and 4.545. **Based on this result, we reject the null hypothesis**. "
      ],
      "metadata": {
        "id": "p8hb3u3ths8Y"
      }
    },
    {
      "cell_type": "markdown",
      "source": [
        "---\n",
        "\n",
        "# **Hypothesis 2:** \n",
        "\n",
        "\n",
        "*   **Null hypothesis:** Infant jaundice does not indicate autism\n",
        "*   **Alternate hypothesis:** Infant jaundice indicates autism\n",
        "\n",
        "\n"
      ],
      "metadata": {
        "id": "uZ3RCT_dmHCv"
      }
    },
    {
      "cell_type": "code",
      "source": [
        "## Pull all \"yes\" responses from the 'jaundice' column and get the range and mean from the 'result' column\n",
        "\n",
        "j_y = all_df['jaundice'] == 'yes'\n",
        "jaun_y = all_df.iloc[j_y.values]\n",
        "jaun_y['result'].describe()"
      ],
      "metadata": {
        "colab": {
          "base_uri": "https://localhost:8080/"
        },
        "id": "inKWhV3IPpF0",
        "outputId": "2d59fb49-a3e7-4433-9420-2381d2174f6b"
      },
      "execution_count": null,
      "outputs": [
        {
          "output_type": "execute_result",
          "data": {
            "text/plain": [
              "count    165.000000\n",
              "mean       6.121212\n",
              "std        2.451450\n",
              "min        1.000000\n",
              "25%        4.000000\n",
              "50%        6.000000\n",
              "75%        8.000000\n",
              "max       10.000000\n",
              "Name: result, dtype: float64"
            ]
          },
          "metadata": {},
          "execution_count": 42
        }
      ]
    },
    {
      "cell_type": "code",
      "source": [
        "## Pull all \"no\" responses from the 'jaundice' column and get the range and mean from the 'result' column\n",
        "\n",
        "j_n = all_df['jaundice'] == 'no'\n",
        "jaun_n = all_df.iloc[j_n.values]\n",
        "jaun_n['result'].describe()"
      ],
      "metadata": {
        "colab": {
          "base_uri": "https://localhost:8080/"
        },
        "id": "bRhkMNCnQF-B",
        "outputId": "b2be2080-3191-4397-dc15-a3f5738db112"
      },
      "execution_count": null,
      "outputs": [
        {
          "output_type": "execute_result",
          "data": {
            "text/plain": [
              "count    935.000000\n",
              "mean       5.286631\n",
              "std        2.516579\n",
              "min        0.000000\n",
              "25%        3.000000\n",
              "50%        5.000000\n",
              "75%        7.000000\n",
              "max       10.000000\n",
              "Name: result, dtype: float64"
            ]
          },
          "metadata": {},
          "execution_count": 43
        }
      ]
    },
    {
      "cell_type": "code",
      "source": [
        "## Run t-test to find p-value\n",
        "\n",
        "stats.ttest_ind(jaun_y['result'], jaun_n['result'])"
      ],
      "metadata": {
        "colab": {
          "base_uri": "https://localhost:8080/"
        },
        "id": "l5pfuYmxQ6Rq",
        "outputId": "308d4b94-4777-4dc4-dd8b-262a885d6e57"
      },
      "execution_count": null,
      "outputs": [
        {
          "output_type": "execute_result",
          "data": {
            "text/plain": [
              "Ttest_indResult(statistic=3.9425093687674218, pvalue=8.573736884960422e-05)"
            ]
          },
          "metadata": {},
          "execution_count": 44
        }
      ]
    },
    {
      "cell_type": "markdown",
      "source": [
        "Reject the null hypothesis, as the p value is significant at p < 0.05"
      ],
      "metadata": {
        "id": "1zorn5fpRAZR"
      }
    },
    {
      "cell_type": "code",
      "source": [
        "## Run confidence interval function of the 'jaundice' results\n",
        "\n",
        "get_95_ci(jaun_n['result'], jaun_y['result'])"
      ],
      "metadata": {
        "colab": {
          "base_uri": "https://localhost:8080/",
          "height": 36
        },
        "id": "fMLIEtFZSN1m",
        "outputId": "f0989cbc-4f1c-4b2a-c0df-af357f8803c6"
      },
      "execution_count": null,
      "outputs": [
        {
          "output_type": "execute_result",
          "data": {
            "text/plain": [
              "'The difference in means at the 95% confidence interval (two-tail) is between 0.4272248475473046 and 1.2419373627913752.'"
            ],
            "application/vnd.google.colaboratory.intrinsic+json": {
              "type": "string"
            }
          },
          "metadata": {},
          "execution_count": 45
        }
      ]
    },
    {
      "cell_type": "markdown",
      "source": [
        "The difference in means at the 95% confidence interval is betwen 0.427 and 1.242."
      ],
      "metadata": {
        "id": "WrN-1HGjSjWF"
      }
    },
    {
      "cell_type": "code",
      "source": [
        "## Run boxplot of the 'jaundice' score\n",
        "\n",
        "sns.boxplot(y='result', x='jaundice', data=all_df)"
      ],
      "metadata": {
        "colab": {
          "base_uri": "https://localhost:8080/",
          "height": 297
        },
        "id": "xzzrGcpRSNvh",
        "outputId": "31a32a4f-d645-4882-b0b4-88b9d29ac615"
      },
      "execution_count": null,
      "outputs": [
        {
          "output_type": "execute_result",
          "data": {
            "text/plain": [
              "<matplotlib.axes._subplots.AxesSubplot at 0x7fe6d87cb580>"
            ]
          },
          "metadata": {},
          "execution_count": 46
        },
        {
          "output_type": "display_data",
          "data": {
            "text/plain": [
              "<Figure size 432x288 with 1 Axes>"
            ],
            "image/png": "[encoded data removed]"
          },
          "metadata": {
            "needs_background": "light"
          }
        }
      ]
    },
    {
      "cell_type": "markdown",
      "source": [
        "The critical value is small, at p < 0.05. The \"yes\" score ranges from 1 to 10 while the \"no\" run from 0 to 10. The mean for \"yes\" is 6.121 while the \"no\" is 5.287. There is a 95% confidence interval between 0.427 and 1.242. While the ranges are fairly similar, the p-value does have a critical value that rejects the null. **Based on this result, we reject the null hypothesis**. "
      ],
      "metadata": {
        "id": "fEk3rO5BlgAE"
      }
    },
    {
      "cell_type": "markdown",
      "source": [
        "---\n",
        "\n",
        "# **Hypothesis 3:** \n",
        "\n",
        "\n",
        "*   **Null hypothesis:** Gender does not affect autism diagnosis\n",
        "*   **Alternate hypothesis:** Males are more likely to be diagnosed with autism"
      ],
      "metadata": {
        "id": "78X5zMFqm5kU"
      }
    },
    {
      "cell_type": "code",
      "source": [
        "## Pull all \"m\" responses from the 'gender' column and get the range and mean of the 'result' column\n",
        "\n",
        "g_m = all_df['gender'] == 'm'\n",
        "gender_m = all_df.iloc[g_m.values]\n",
        "gender_m['result'].describe()"
      ],
      "metadata": {
        "colab": {
          "base_uri": "https://localhost:8080/"
        },
        "id": "uLWtviehYeDb",
        "outputId": "33694f7a-e390-49ff-d4cd-ddf1fba41564"
      },
      "execution_count": null,
      "outputs": [
        {
          "output_type": "execute_result",
          "data": {
            "text/plain": [
              "count    625.000000\n",
              "mean       5.425600\n",
              "std        2.502175\n",
              "min        0.000000\n",
              "25%        3.000000\n",
              "50%        5.000000\n",
              "75%        7.000000\n",
              "max       10.000000\n",
              "Name: result, dtype: float64"
            ]
          },
          "metadata": {},
          "execution_count": 47
        }
      ]
    },
    {
      "cell_type": "code",
      "source": [
        "## Pull all \"f\" responses from the 'gender' column and get the range and mean of the 'result' column\n",
        "\n",
        "g_f = all_df['gender'] == 'f'\n",
        "gender_f = all_df.iloc[g_f.values]\n",
        "gender_f['result'].describe()"
      ],
      "metadata": {
        "colab": {
          "base_uri": "https://localhost:8080/"
        },
        "id": "2zlsBiDoYvPw",
        "outputId": "373b1e0b-f292-4a88-8498-1fbf25187d67"
      },
      "execution_count": null,
      "outputs": [
        {
          "output_type": "execute_result",
          "data": {
            "text/plain": [
              "count    475.000000\n",
              "mean       5.393684\n",
              "std        2.553801\n",
              "min        0.000000\n",
              "25%        3.000000\n",
              "50%        5.000000\n",
              "75%        8.000000\n",
              "max       10.000000\n",
              "Name: result, dtype: float64"
            ]
          },
          "metadata": {},
          "execution_count": 48
        }
      ]
    },
    {
      "cell_type": "code",
      "source": [
        "## Run a t-test to find the p-value\n",
        "\n",
        "stats.ttest_ind(gender_m['result'], gender_f['result'])"
      ],
      "metadata": {
        "colab": {
          "base_uri": "https://localhost:8080/"
        },
        "id": "_0k-naPEY_JE",
        "outputId": "38c8b380-d12d-4a6e-9931-e044cc84bba4"
      },
      "execution_count": null,
      "outputs": [
        {
          "output_type": "execute_result",
          "data": {
            "text/plain": [
              "Ttest_indResult(statistic=0.2076849103905338, pvalue=0.83551351334964)"
            ]
          },
          "metadata": {},
          "execution_count": 49
        }
      ]
    },
    {
      "cell_type": "markdown",
      "source": [
        "Fail to reject the null hypothesis, as p = 0.836\n"
      ],
      "metadata": {
        "id": "CjtxowaBZUy9"
      }
    },
    {
      "cell_type": "code",
      "source": [
        "## Run confidence interval function of the 'gender' results\n",
        "\n",
        "get_95_ci(gender_m['result'], gender_f['result'])"
      ],
      "metadata": {
        "colab": {
          "base_uri": "https://localhost:8080/",
          "height": 36
        },
        "id": "nbRzBNcrZr50",
        "outputId": "ed866e27-1ad8-4133-d8f9-b802f2a589a9"
      },
      "execution_count": null,
      "outputs": [
        {
          "output_type": "execute_result",
          "data": {
            "text/plain": [
              "'The difference in means at the 95% confidence interval (two-tail) is between -0.33395763432461334 and 0.27012605537724466.'"
            ],
            "application/vnd.google.colaboratory.intrinsic+json": {
              "type": "string"
            }
          },
          "metadata": {},
          "execution_count": 50
        }
      ]
    },
    {
      "cell_type": "markdown",
      "source": [
        "The difference in means at the 95% confidence interval is betwen -0.334 and 0.270."
      ],
      "metadata": {
        "id": "3pR0Q4ZTbCKo"
      }
    },
    {
      "cell_type": "code",
      "source": [
        "## Run boxplot of the 'gender' scores\n",
        "\n",
        "sns.boxplot(y='result', x='gender', data=all_df)"
      ],
      "metadata": {
        "colab": {
          "base_uri": "https://localhost:8080/",
          "height": 297
        },
        "id": "Gdu7bcvIbm9j",
        "outputId": "4f798577-5203-453a-f61f-dc11e4e510d9"
      },
      "execution_count": null,
      "outputs": [
        {
          "output_type": "execute_result",
          "data": {
            "text/plain": [
              "<matplotlib.axes._subplots.AxesSubplot at 0x7fe6d8701d60>"
            ]
          },
          "metadata": {},
          "execution_count": 51
        },
        {
          "output_type": "display_data",
          "data": {
            "text/plain": [
              "<Figure size 432x288 with 1 Axes>"
            ],
            "image/png": "[encoded data removed]"
          },
          "metadata": {
            "needs_background": "light"
          }
        }
      ]
    },
    {
      "cell_type": "markdown",
      "source": [
        "The p-value is large, at p = 0.836. Both the male and female ranges are between 0-10. The means are similar, with males having a mean of 5.427 and females having a mean of 5.394. There is a 95% confidence interval between -0.334 and 0.270. **With the p value not falling into the critical value, we fail to reject the null hypothesis**."
      ],
      "metadata": {
        "id": "XGvbFdyFopS0"
      }
    },
    {
      "cell_type": "markdown",
      "source": [
        "---\n",
        "\n",
        "# **Conclusions and Recommendations**\n",
        "\n",
        "The dataset was able to show that the app is able to determine if a test taker has ASD. It was also able to determine that having infant jaundice can be a factor in diagnosing ASD, while gender would not be a factor. \n",
        "\n",
        "From these test, we can determine that the app can be useful in spreading awareness and showing signs of ASD to the wider public. This can help people determine if people they know (usually family members) should look for treatment. Primary care physicians can also use the app to determine if patients of theirs have symptoms and whether they should recommend specialists tho them. The app developer can also use this information to input information that leads test takers to specialists or sites to help them seek treatment as well."
      ],
      "metadata": {
        "id": "26i12znpHKgY"
      }
    }
  ]
}